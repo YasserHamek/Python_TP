{
 "cells": [
  {
   "cell_type": "markdown",
   "metadata": {},
   "source": [
    "# TP noté - À envoyer par mail à luc.lesoil@irisa.fr avant le 15 février 2021\n",
    "\n",
    "Pensez à renommer votre fichier NOM_PRÉNOM.ipynb (ou autre extension) pour éviter de vous retrouver avec la note d'un autre!\n",
    "\n",
    "Quelques conseils:\n",
    "- Les réponses demandent toujours au moins une ligne de code\n",
    "- Commentez les parties complexes et discutez vos résultats\n",
    "- Avant d'envoyer votre travail, pensez à redémarrer le noyau puis exécuter toutes les cellules pour éviter des étourderies de dernière minute\n",
    "- Pour les figures, pensez à mettre un titre et à nommer les axes\n",
    "- Le travail est personnel, sauf si vous m'avez explicitement envoyé un travail en binôme par mail. Je serai plus exigeant avec les travaux de binôme\n",
    "- Ne restez pas bloqués sur un exercice si vous n'y arrivez pas, passez aux autres!\n",
    "- Si vous modifiez le jeu de données 'retraite.csv', joignez-le au mail.\n",
    "\n",
    "Bon courage!"
   ]
  },
  {
   "cell_type": "markdown",
   "metadata": {},
   "source": [
    "### Importez toutes les libraries du notebook dans la prochaine cellule\n",
    "\n",
    "Si vous avez importé une librairie un peu particulière, merci de m'indiquer comment l'installer!"
   ]
  },
  {
   "cell_type": "code",
   "execution_count": 9,
   "metadata": {},
   "outputs": [],
   "source": [
    "import numpy as np"
   ]
  },
  {
   "cell_type": "markdown",
   "metadata": {},
   "source": [
    "# Exercice 1 - Déchiffrement de PlayFair\n",
    "\n",
    "Le message *break_me* a été chiffré à l'aide du chiffrement de PlayFair (voir https://fr.wikipedia.org/wiki/Chiffre_de_Playfair ).\n",
    "\n",
    "L'objectif de l'exercice est de le déchiffrer à l'aide de la clef *playFair*.\n",
    "\n",
    "Pour commencer, voici une explication imagée du déchiffrage :\n",
    "\n",
    "https://www.youtube.com/watch?v=JMkGYoT3-Rw#t=3m45s -> 5m20s."
   ]
  },
  {
   "cell_type": "code",
   "execution_count": 2,
   "metadata": {},
   "outputs": [],
   "source": [
    "# le message à casser\n",
    "break_me = \"gk gvmxh hmx fbsv aixagk\"\n",
    "\n",
    "# la clef associée au chiffrement\n",
    "playFair = np.array([['f','a','i','r','p'],\n",
    "                     ['l','y','o','g','b'],\n",
    "                     ['n','c','x','q','t'],\n",
    "                     ['k','d','j','e','h'],\n",
    "                     ['w','u','s','v','m']])        "
   ]
  },
  {
   "cell_type": "markdown",
   "metadata": {},
   "source": [
    "Je vous propose de suivre les différentes questions pour résoudre l'exercice, mais vous êtes libres de faire vos propres choix d'implémentation si vous êtes à l'aise.\n",
    "\n",
    "### 1) Introduction \n",
    "\n",
    "#### 1) a-] Définissez une fonction *cut_couple*  qui prend une chaine de caractère *msg* en entrée, le découpe en couple de lettres, puis renvoie une liste contenant des couples de lettres. \n",
    "\n",
    "On supprimera les espaces pour simplifier le problème. Si le nombre de lettres de la chaine de caractère est impair, on rajoutera le caractère x en bout de chaine.\n",
    "\n",
    "> **Exemple** : `cut_couple(\"coupez moi\")` renverra `['co', 'up', 'ez', 'mo', 'ix']`"
   ]
  },
  {
   "cell_type": "code",
   "execution_count": 48,
   "metadata": {},
   "outputs": [
    {
     "data": {
      "text/plain": [
       "['ee', 'rr', 'ff', 'Dx']"
      ]
     },
     "execution_count": 48,
     "metadata": {},
     "output_type": "execute_result"
    }
   ],
   "source": [
    "def cut_couple(string):\n",
    "    \n",
    "    if type(string) is not str:\n",
    "        print(\"Error : introduisez un string en parametre s'il vous plait\")\n",
    "        return\n",
    "    \n",
    "    ls = string.split()\n",
    "    localString = ''.join(ls)\n",
    "    \n",
    "    ls = localString.split(',')\n",
    "    localString = ''.join(ls)\n",
    "    \n",
    "    ls = localString.split('.')\n",
    "    localString = ''.join(ls)\n",
    "    \n",
    "    ls = localString.split('-')\n",
    "    localString = ''.join(ls)\n",
    "    \n",
    "    ls = localString.split('_')\n",
    "    localString = ''.join(ls)\n",
    "    \n",
    "    ls = localString.split('*')\n",
    "    localString = ''.join(ls)\n",
    "    \n",
    "    ls = localString.split('/n')\n",
    "    localString = ''.join(ls)\n",
    "    \n",
    "    strLength = len(localString)\n",
    "    listS = []\n",
    "    i = 0\n",
    "    \n",
    "    # cas string pair\n",
    "    if strLength % 2 == 0:\n",
    "        while i < strLength:\n",
    "            listS.append(localString[i:i+2])\n",
    "            i = i + 2\n",
    "        return listS\n",
    "    \n",
    "    # cas string impair\n",
    "    while i < strLength-1:\n",
    "        listS.append(localString[i:i+2])\n",
    "        i = i + 2\n",
    "        \n",
    "    listS.append(localString[strLength-1]+'x')\n",
    "    \n",
    "    return listS\n",
    "    \n",
    "\n",
    "        \n",
    "        \n"
   ]
  },
  {
   "cell_type": "code",
   "execution_count": 49,
   "metadata": {},
   "outputs": [
    {
     "data": {
      "text/plain": [
       "['co', 'up', 'ez', 'mo', 'ix']"
      ]
     },
     "execution_count": 49,
     "metadata": {},
     "output_type": "execute_result"
    }
   ],
   "source": [
    "cut_couple(\"coupez moi\")"
   ]
  },
  {
   "cell_type": "markdown",
   "metadata": {},
   "source": [
    "#### 1) b-] Créez un dictionnaire *positions* contenant la position (index_ligne, index_colonne) de chaque lettre présente dans playFair.\n",
    "\n",
    "> **Exemple** : la lettre 'i' a pour coordonnées ($x_{i}$,$y_{i}$) = (0,2)"
   ]
  },
  {
   "cell_type": "code",
   "execution_count": 71,
   "metadata": {},
   "outputs": [],
   "source": [
    "positions = dict(\n",
    "f = (0,0),\n",
    "a = (0, 1),\n",
    "i = (0, 2),\n",
    "r = (0, 3),\n",
    "p = (0, 4),\n",
    "l = (1, 0),\n",
    "y = (1, 1),\n",
    "o = (1, 2),\n",
    "g = (1, 3),\n",
    "b = (1, 4),\n",
    "n = (2, 0),\n",
    "c = (2, 1),\n",
    "x = (2, 2),\n",
    "q = (2, 3),\n",
    "t = (2, 4),\n",
    "k = (3, 0),\n",
    "d = (3, 1),\n",
    "j = (3, 2),\n",
    "e = (3, 3),\n",
    "h = (3, 4),\n",
    "w = (4, 0),\n",
    "u = (4, 1),\n",
    "s = (4, 2),\n",
    "v = (4, 3),\n",
    "m = (4, 4)    \n",
    ")\n"
   ]
  },
  {
   "cell_type": "code",
   "execution_count": 72,
   "metadata": {},
   "outputs": [
    {
     "data": {
      "text/plain": [
       "{'f': (0, 0),\n",
       " 'a': (0, 1),\n",
       " 'i': (0, 2),\n",
       " 'r': (0, 3),\n",
       " 'p': (0, 4),\n",
       " 'l': (1, 0),\n",
       " 'y': (1, 1),\n",
       " 'o': (1, 2),\n",
       " 'g': (1, 3),\n",
       " 'b': (1, 4),\n",
       " 'n': (2, 0),\n",
       " 'c': (2, 1),\n",
       " 'x': (2, 2),\n",
       " 'q': (2, 3),\n",
       " 't': (2, 4),\n",
       " 'k': (3, 0),\n",
       " 'd': (3, 1),\n",
       " 'j': (3, 2),\n",
       " 'e': (3, 3),\n",
       " 'h': (3, 4),\n",
       " 'w': (4, 0),\n",
       " 'u': (4, 1),\n",
       " 's': (4, 2),\n",
       " 'v': (4, 3),\n",
       " 'm': (4, 4)}"
      ]
     },
     "execution_count": 72,
     "metadata": {},
     "output_type": "execute_result"
    }
   ],
   "source": [
    "positions"
   ]
  },
  {
   "cell_type": "markdown",
   "metadata": {},
   "source": [
    "#### 1) c-] Définissez une fonction *concat_couple*  qui prend une liste de chaines de caractère *list_couple* en entrée, et renvoie une chaine de caractère. "
   ]
  },
  {
   "cell_type": "code",
   "execution_count": 69,
   "metadata": {},
   "outputs": [
    {
     "data": {
      "text/plain": [
       "'hello python'"
      ]
     },
     "execution_count": 69,
     "metadata": {},
     "output_type": "execute_result"
    }
   ],
   "source": [
    "def concat_couple(strList):\n",
    "    \n",
    "    strResult = ''.join(strList)\n",
    "    return strResult\n",
    "    \n",
    "concat_couple(['hel','lo',' ','py', 'th','on'])   "
   ]
  },
  {
   "cell_type": "markdown",
   "metadata": {},
   "source": [
    "### 2) Travaillez la clef playFair\n",
    "\n",
    "Différents cas :\n",
    "\n",
    "#### 2) a-] \"Si les deux lettres du couple sont situées sur la même ligne, alors on renvoie les deux lettres situées à gauche.\" Définissez une fonction *simple_case* qui prend un tableau *tab* et une chaine de caractères contenant un couple de lettre *couple*. La fonction renverra une chaine de caractère contenant le couple de lettres décodé.\n",
    "\n",
    "> **Exemple** : Le tableau `['f','a','i','r','p']` et le couple de lettres `'pa'` sont donnés en entrée à la fonction *simple_case*. Comme `'r'` est à gauche de `'p'` dans le tableau, on remplace `'p'` par la lettre `'r'`. De même, la lettre `'a'` est remplacée par `'f'`.  Donc, `simple_case(['f','a','i','r','p'], 'pa')` renverra `'rf'`. \n",
    "\n",
    "> **Aide** : La première lettre du tableau (ici `'f'`) sera remplacée par la dernière du tableau (ici `'p'`). Donc `simple_case(['f','a','i','r','p'], 'fr')` renverra `'pi'`. \n",
    "\n"
   ]
  },
  {
   "cell_type": "code",
   "execution_count": 15,
   "metadata": {},
   "outputs": [],
   "source": [
    "def simple_case(tab,string):\n",
    "    stringResult = ''\n",
    "    tabE = tab\n",
    "    \n",
    "    if type(tab) is not list or type(string) is not str:\n",
    "        print(\"Error : must use valid data\")\n",
    "        return\n",
    "    \n",
    "    if len(tab) != 5:\n",
    "        print(\"Error : list length must be equal to 5\")\n",
    "        return\n",
    "    \n",
    "    if len(string) != 2:\n",
    "        print(\"Error : string length must be equal to 2\")\n",
    "        return\n",
    "    \n",
    "    i = 0\n",
    "    while i < 2:\n",
    "        \n",
    "        if tab.index(string[i]) == 0:\n",
    "            stringResult = stringResult + tab[len(tab)-1]\n",
    "        else:\n",
    "            stringResult = stringResult + tab[tab.index(string[i])-1]\n",
    "        \n",
    "        i = i + 1\n",
    "    \n",
    "    return stringResult\n",
    "    "
   ]
  },
  {
   "cell_type": "code",
   "execution_count": 16,
   "metadata": {},
   "outputs": [
    {
     "data": {
      "text/plain": [
       "'rf'"
      ]
     },
     "execution_count": 16,
     "metadata": {},
     "output_type": "execute_result"
    }
   ],
   "source": [
    "simple_case(['f','a','i','r','p'], 'pa')"
   ]
  },
  {
   "cell_type": "code",
   "execution_count": 17,
   "metadata": {},
   "outputs": [
    {
     "data": {
      "text/plain": [
       "'pi'"
      ]
     },
     "execution_count": 17,
     "metadata": {},
     "output_type": "execute_result"
    }
   ],
   "source": [
    "simple_case(['f','a','i','r','p'], 'fr')"
   ]
  },
  {
   "cell_type": "markdown",
   "metadata": {},
   "source": [
    "Dans le cas où les deux lettres ne sont pas sur les mêmes lignes/colonnes, on renvoie les deux lettres situées dans les coins opposés du rectangle formé par les lettres initiales.\n",
    "\n",
    "#### 2) b-] Définissez une fonction get_opposite_couple(couple) qui prend une chaine de caractère contenant un couple de lettres en entrée, et renvoie les lettres situées dans les coins opposés."
   ]
  },
  {
   "cell_type": "code",
   "execution_count": 10,
   "metadata": {},
   "outputs": [],
   "source": [
    "playFair = np.array([['f','a','i','r','p'],\n",
    "                     ['l','y','o','g','b'],\n",
    "                     ['n','c','x','q','t'],\n",
    "                     ['k','d','j','e','h'],\n",
    "                     ['w','u','s','v','m']])"
   ]
  },
  {
   "cell_type": "markdown",
   "metadata": {},
   "source": [
    "> **Exemple** : Si le couple `'fy'` est donné en entrée, on isole le carré délimité par les lettres `'f'` et `'y'`, contenant les lettres `'f'` et `'a'` en première ligne, puis `'l'` et `'y'` en seconde ligne. Le premier coin opposé à `'f'` en première ligne est délimité par `'a'`, on remplace `'f'` par `'a'`. Le second coin est délimité par `'l'`, on remplace `'y'` par `'l'`. Donc, `get_opposite_couple('fy')` renverra `'al'`. De même, `get_opposite_couple('fq')` renverra `'rn'`.\n",
    "\n",
    "> **Aide** :  On pourra s'aider du dictionnaire *positions* créé en 1) b-]. Par exemple, en notant ($x_{f}$, $y_{f}$) les positions de `'f'` dans le tableau playFair et ($x_{q}$, $y_{q}$) celles de `'q'`, on souhaite juste renvoyer le couple de lettres aux indexes ($x_{f}$, $y_{q}$) = ($x_{r}$, $y_{r}$) et ($x_{q}$, $y_{f}$) =  ($x_{n}$, $y_{n}$)."
   ]
  },
  {
   "cell_type": "code",
   "execution_count": null,
   "metadata": {},
   "outputs": [],
   "source": []
  },
  {
   "cell_type": "code",
   "execution_count": 12,
   "metadata": {},
   "outputs": [
    {
     "data": {
      "text/plain": [
       "'al'"
      ]
     },
     "execution_count": 12,
     "metadata": {},
     "output_type": "execute_result"
    }
   ],
   "source": [
    "get_opposite_couple('fy')"
   ]
  },
  {
   "cell_type": "code",
   "execution_count": 13,
   "metadata": {},
   "outputs": [
    {
     "data": {
      "text/plain": [
       "'rn'"
      ]
     },
     "execution_count": 13,
     "metadata": {},
     "output_type": "execute_result"
    }
   ],
   "source": [
    "get_opposite_couple('fq')"
   ]
  },
  {
   "cell_type": "markdown",
   "metadata": {},
   "source": [
    "### 3) Déchiffrer break_me\n",
    "\n",
    "On pourra définir une fonction prenant un message :\n",
    "- Pour chaque couple de lettres isolées en 1), déterminer si ces lettres sont sur la même ligne/colonne\n",
    "- Si oui, appliquer 2)a-] sur la bonne ligne/colonne\n",
    "- Sinon, appliquer 2)b-]\n",
    "- Stocker les résultats, recomposer la chaine de caractère, et la retourner.\n",
    "\n",
    "Affichez *break_me* déchiffrée! Quelle phrase était codée à l'origine?\n",
    "\n",
    "> **Bonus** : Gardez en mémoire les espaces! Adaptez les questions 1)a-] et 1)c-] pour reconstituer le message original."
   ]
  },
  {
   "cell_type": "code",
   "execution_count": null,
   "metadata": {},
   "outputs": [],
   "source": []
  },
  {
   "cell_type": "markdown",
   "metadata": {},
   "source": [
    "# Exercice 2\n",
    "\n",
    "♩ Toss a coin to your teacher ♩"
   ]
  },
  {
   "cell_type": "markdown",
   "metadata": {},
   "source": [
    "### 1) Définissez une classe CoinToss qui lance virtuellement une pièce.\n",
    "\n",
    "La classe CoinToss aura au minimum:\n",
    "- un argument *coinValue*. Il sera initialisé à 'Pile' ou 'Face' avec une probabilité $\\frac{1}{2}$ si le constructeur ne donne pas de valeur par défaut à coinValue. Si la valeur est renseignée dans le constructeur, elle sera affectée à *coinValue*.\n",
    "- un getter et un setter associés à *coinValue*.\n",
    "- une méthode *toss*, qui réinitialisera la valeur de *coinValue*."
   ]
  },
  {
   "cell_type": "code",
   "execution_count": null,
   "metadata": {},
   "outputs": [],
   "source": []
  },
  {
   "cell_type": "markdown",
   "metadata": {},
   "source": [
    "### 2) Définissez une classe FakeCoinToss, qui lancera virtuellement une pièce non équilibrée.\n",
    "\n",
    "La classe FakeCoinToss héritera de CoinToss.\n",
    "\n",
    "On surchargera la méthode *toss* pour qu'elle réinitialise la pièce 7 fois sur 10 à 'Pile', et trois fois sur 10 à 'Face'."
   ]
  },
  {
   "cell_type": "code",
   "execution_count": null,
   "metadata": {},
   "outputs": [],
   "source": []
  },
  {
   "cell_type": "markdown",
   "metadata": {},
   "source": [
    "### 3) Lancez 100 fois une pièce avec CoinToss, définie à la question 1, et 100 fois avec FakeCoinToss, définie à la question 2.\n",
    "\n",
    "Vérifiez que vous obtenez bien un nombre de 'Pile' et de 'Face' cohérent avec les consignes."
   ]
  },
  {
   "cell_type": "code",
   "execution_count": null,
   "metadata": {},
   "outputs": [],
   "source": []
  },
  {
   "cell_type": "markdown",
   "metadata": {},
   "source": [
    "# Problème"
   ]
  },
  {
   "cell_type": "markdown",
   "metadata": {},
   "source": [
    "Vous aurez besoin du dataset 'retraite.csv'. Ce jeu de données est généré à la main. Il contient de (fausses) données sur le parcours professionel de plusieurs (fausses) personnes.\n",
    "\n",
    "Description des variables:\n",
    "- **prenom** contient le prénom de la personne considérée (un prénom est associé à une personne)\n",
    "- **revenus_bruts** contient les revenus bruts des personnes\n",
    "- **mois** contient le mois associé à ces revenus\n",
    "- **annee** contient l'année associée à ces revenus\n",
    "- **cotisation** contient vrai si la personne cotise pour sa retraite à ce moment-là"
   ]
  },
  {
   "cell_type": "markdown",
   "metadata": {},
   "source": [
    "### 1) Importez le jeu de données, puis affichez les cinq premières lignes"
   ]
  },
  {
   "cell_type": "code",
   "execution_count": null,
   "metadata": {},
   "outputs": [],
   "source": []
  },
  {
   "cell_type": "markdown",
   "metadata": {},
   "source": [
    "### 2) Description des données"
   ]
  },
  {
   "cell_type": "markdown",
   "metadata": {},
   "source": [
    "#### 2) a-]  Quel est le type de la variable cotisation? Affichez le en console"
   ]
  },
  {
   "cell_type": "code",
   "execution_count": null,
   "metadata": {},
   "outputs": [],
   "source": []
  },
  {
   "cell_type": "markdown",
   "metadata": {},
   "source": [
    "#### 2) b-]  Affichez les dimensions du dataframe"
   ]
  },
  {
   "cell_type": "code",
   "execution_count": null,
   "metadata": {},
   "outputs": [],
   "source": []
  },
  {
   "cell_type": "markdown",
   "metadata": {},
   "source": [
    "#### 2) c-]  Combien de prénoms différents contient le dataset?"
   ]
  },
  {
   "cell_type": "code",
   "execution_count": null,
   "metadata": {},
   "outputs": [],
   "source": []
  },
  {
   "cell_type": "markdown",
   "metadata": {},
   "source": [
    "### 3) Extraction des données et statistiques descriptives"
   ]
  },
  {
   "cell_type": "markdown",
   "metadata": {},
   "source": [
    "#### 3) a-]  Quelle période couvre le dataset?"
   ]
  },
  {
   "cell_type": "code",
   "execution_count": null,
   "metadata": {},
   "outputs": [],
   "source": []
  },
  {
   "cell_type": "code",
   "execution_count": null,
   "metadata": {},
   "outputs": [],
   "source": []
  },
  {
   "cell_type": "markdown",
   "metadata": {},
   "source": [
    "#### 3) b-]  Quelle est la moyenne des revenus bruts?"
   ]
  },
  {
   "cell_type": "code",
   "execution_count": null,
   "metadata": {
    "scrolled": true
   },
   "outputs": [],
   "source": []
  },
  {
   "cell_type": "markdown",
   "metadata": {},
   "source": [
    "#### 3) c-]  Quels ont été les revenus bruts de Patrick en janvier 1979?"
   ]
  },
  {
   "cell_type": "code",
   "execution_count": null,
   "metadata": {},
   "outputs": [],
   "source": []
  },
  {
   "cell_type": "markdown",
   "metadata": {},
   "source": [
    "#### 3) d-]  Quel montant brut a touché Catherine sur toute l'année 1983?"
   ]
  },
  {
   "cell_type": "code",
   "execution_count": null,
   "metadata": {},
   "outputs": [],
   "source": []
  },
  {
   "cell_type": "markdown",
   "metadata": {},
   "source": [
    "### 4) Transformation des données"
   ]
  },
  {
   "cell_type": "markdown",
   "metadata": {},
   "source": [
    "#### 4) a-] Créez un dataset contenant les revenus bruts annuels moyens de Patrick. "
   ]
  },
  {
   "cell_type": "code",
   "execution_count": null,
   "metadata": {
    "scrolled": true
   },
   "outputs": [],
   "source": []
  },
  {
   "cell_type": "markdown",
   "metadata": {},
   "source": [
    "#### 4) b-] Créez une variable revenus_nets à l'aide de la variable revenus_bruts. \n",
    "\n",
    "Pour grossièrement passer d'un salaire brut à un salaire net, il faut retrancher 23% du salaire brut pour un employé du privé et 15% pour un employé de la fonction publique.\n",
    "\n",
    "Patrick est employé de la fonction publique, les autres sont employés dans le privé."
   ]
  },
  {
   "cell_type": "code",
   "execution_count": null,
   "metadata": {},
   "outputs": [],
   "source": []
  },
  {
   "cell_type": "markdown",
   "metadata": {},
   "source": [
    "### 5) Visualisation graphique"
   ]
  },
  {
   "cell_type": "markdown",
   "metadata": {},
   "source": [
    "#### 5) a-] Affichez un boxplot comparant les distributions de salaires nets des différentes personnes du dataset. "
   ]
  },
  {
   "cell_type": "code",
   "execution_count": null,
   "metadata": {},
   "outputs": [],
   "source": []
  },
  {
   "cell_type": "markdown",
   "metadata": {},
   "source": [
    "#### 5) b-] Comparez les variations de salaires (écart-type) par personne. Quelle personne a les revenus les plus fluctuants d'après le graphique? Quelle personne a les revenus les plus fluctuants en écart-type? Comment expliquez-vous cette différence?"
   ]
  },
  {
   "cell_type": "code",
   "execution_count": null,
   "metadata": {},
   "outputs": [],
   "source": []
  },
  {
   "cell_type": "code",
   "execution_count": null,
   "metadata": {
    "scrolled": true
   },
   "outputs": [],
   "source": []
  },
  {
   "cell_type": "markdown",
   "metadata": {},
   "source": [
    "### 6) Méthodes statistiques"
   ]
  },
  {
   "cell_type": "markdown",
   "metadata": {},
   "source": [
    "\n",
    "Pour cette question, utilisez les données de la question 4a!\n",
    "\n",
    "#### 6) a-] Modéliser l'évolution du salaire de Patrick au cours du temps à l'aide d'une régression. "
   ]
  },
  {
   "cell_type": "code",
   "execution_count": null,
   "metadata": {},
   "outputs": [],
   "source": []
  },
  {
   "cell_type": "markdown",
   "metadata": {},
   "source": [
    "#### 6) b-] Pouvez-vous prédire ce que gagnera Patrick (en brut) s'il est toujours dans la fonction publique dans 10 ans? "
   ]
  },
  {
   "cell_type": "code",
   "execution_count": null,
   "metadata": {},
   "outputs": [],
   "source": []
  },
  {
   "cell_type": "markdown",
   "metadata": {},
   "source": [
    "#### 6) c-] Quelle est la valeur de son augmentation annuelle? "
   ]
  },
  {
   "cell_type": "code",
   "execution_count": null,
   "metadata": {},
   "outputs": [],
   "source": []
  },
  {
   "cell_type": "markdown",
   "metadata": {},
   "source": [
    "#### 6) d-] Affichez le R² associé à la régression; le modèle vous parait-il correct? Affichez la droite de régression pour vérifier!\n",
    "\n",
    "Commentez ces résultats."
   ]
  },
  {
   "cell_type": "code",
   "execution_count": null,
   "metadata": {},
   "outputs": [],
   "source": []
  }
 ],
 "metadata": {
  "kernelspec": {
   "display_name": "Python 3",
   "language": "python",
   "name": "python3"
  },
  "language_info": {
   "codemirror_mode": {
    "name": "ipython",
    "version": 3
   },
   "file_extension": ".py",
   "mimetype": "text/x-python",
   "name": "python",
   "nbconvert_exporter": "python",
   "pygments_lexer": "ipython3",
   "version": "3.8.3"
  }
 },
 "nbformat": 4,
 "nbformat_minor": 2
}
