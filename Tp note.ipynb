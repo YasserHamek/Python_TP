{
 "cells": [
  {
   "cell_type": "markdown",
   "metadata": {},
   "source": [
    "# TP noté - À envoyer par mail à luc.lesoil@irisa.fr avant le 15 février 2021\n",
    "\n",
    "Pensez à renommer votre fichier NOM_PRÉNOM.ipynb (ou autre extension) pour éviter de vous retrouver avec la note d'un autre!\n",
    "\n",
    "Quelques conseils:\n",
    "- Les réponses demandent toujours au moins une ligne de code\n",
    "- Commentez les parties complexes et discutez vos résultats\n",
    "- Avant d'envoyer votre travail, pensez à redémarrer le noyau puis exécuter toutes les cellules pour éviter des étourderies de dernière minute\n",
    "- Pour les figures, pensez à mettre un titre et à nommer les axes\n",
    "- Le travail est personnel, sauf si vous m'avez explicitement envoyé un travail en binôme par mail. Je serai plus exigeant avec les travaux de binôme\n",
    "- Ne restez pas bloqués sur un exercice si vous n'y arrivez pas, passez aux autres!\n",
    "- Si vous modifiez le jeu de données 'retraite.csv', joignez-le au mail.\n",
    "\n",
    "Bon courage!"
   ]
  },
  {
   "cell_type": "markdown",
   "metadata": {},
   "source": [
    "### Importez toutes les libraries du notebook dans la prochaine cellule\n",
    "\n",
    "Si vous avez importé une librairie un peu particulière, merci de m'indiquer comment l'installer!"
   ]
  },
  {
   "cell_type": "code",
   "execution_count": 161,
   "metadata": {},
   "outputs": [],
   "source": [
    "import numpy as np\n",
    "import re\n",
    "from numpy import random \n",
    "import pandas as pd\n",
    "import matplotlib.pyplot as plt "
   ]
  },
  {
   "cell_type": "markdown",
   "metadata": {},
   "source": [
    "# Exercice 1 - Déchiffrement de PlayFair\n",
    "\n",
    "Le message *break_me* a été chiffré à l'aide du chiffrement de PlayFair (voir https://fr.wikipedia.org/wiki/Chiffre_de_Playfair ).\n",
    "\n",
    "L'objectif de l'exercice est de le déchiffrer à l'aide de la clef *playFair*.\n",
    "\n",
    "Pour commencer, voici une explication imagée du déchiffrage :\n",
    "\n",
    "https://www.youtube.com/watch?v=JMkGYoT3-Rw#t=3m45s -> 5m20s."
   ]
  },
  {
   "cell_type": "code",
   "execution_count": 2,
   "metadata": {},
   "outputs": [],
   "source": [
    "# le message à casser\n",
    "break_me = \"gk gvmxh hmx fbsv aixagk\"\n",
    "\n",
    "# la clef associée au chiffrement\n",
    "playFair = np.array([['f','a','i','r','p'],\n",
    "                     ['l','y','o','g','b'],\n",
    "                     ['n','c','x','q','t'],\n",
    "                     ['k','d','j','e','h'],\n",
    "                     ['w','u','s','v','m']])        "
   ]
  },
  {
   "cell_type": "markdown",
   "metadata": {},
   "source": [
    "Je vous propose de suivre les différentes questions pour résoudre l'exercice, mais vous êtes libres de faire vos propres choix d'implémentation si vous êtes à l'aise.\n",
    "\n",
    "### 1) Introduction \n",
    "\n",
    "#### 1) a-] Définissez une fonction *cut_couple*  qui prend une chaine de caractère *msg* en entrée, le découpe en couple de lettres, puis renvoie une liste contenant des couples de lettres. \n",
    "\n",
    "On supprimera les espaces pour simplifier le problème. Si le nombre de lettres de la chaine de caractère est impair, on rajoutera le caractère x en bout de chaine.\n",
    "\n",
    "> **Exemple** : `cut_couple(\"coupez moi\")` renverra `['co', 'up', 'ez', 'mo', 'ix']`"
   ]
  },
  {
   "cell_type": "code",
   "execution_count": 1,
   "metadata": {},
   "outputs": [],
   "source": [
    "caracterList = []\n",
    "\n",
    "def cut_couple(string):\n",
    "    \n",
    "    if type(string) is not str:\n",
    "        print(\"Error : introduisez un string en parametre s'il vous plait\")\n",
    "        return\n",
    "\n",
    "    caracterList.clear()\n",
    "    \n",
    "    for match in re.finditer('_',string):\n",
    "        caracterList.append(('_',match.start()))\n",
    "        \n",
    "    for match in re.finditer(' ',string):\n",
    "        caracterList.append((' ',match.start()))\n",
    "    \n",
    "    ls = string.split(' ')\n",
    "    localString = ''.join(ls)\n",
    "    \n",
    "    ls = localString.split(',')\n",
    "    localString = ''.join(ls)\n",
    "    \n",
    "    ls = localString.split('.')\n",
    "    localString = ''.join(ls)\n",
    "    \n",
    "    ls = localString.split('-')\n",
    "    localString = ''.join(ls)\n",
    "    \n",
    "    ls = localString.split('_')\n",
    "    localString = ''.join(ls)\n",
    "    \n",
    "    ls = localString.split('*')\n",
    "    localString = ''.join(ls)\n",
    "    \n",
    "    ls = localString.split('/n')\n",
    "    localString = ''.join(ls)\n",
    "    \n",
    "    strLength = len(localString)\n",
    "    listS = []\n",
    "    i = 0\n",
    "    \n",
    "    # cas string pair\n",
    "    if strLength % 2 == 0:\n",
    "        while i < strLength:\n",
    "            listS.append(localString[i:i+2])\n",
    "            i = i + 2\n",
    "        return listS\n",
    "    \n",
    "    # cas string impair\n",
    "    while i < strLength-1:\n",
    "        listS.append(localString[i:i+2])\n",
    "        i = i + 2\n",
    "        \n",
    "    listS.append(localString[strLength-1]+'x')\n",
    "    \n",
    "    return listS\n",
    "    "
   ]
  },
  {
   "cell_type": "code",
   "execution_count": 4,
   "metadata": {},
   "outputs": [
    {
     "data": {
      "text/plain": [
       "['co', 'up', 'ez', 'mo', 'ix']"
      ]
     },
     "execution_count": 4,
     "metadata": {},
     "output_type": "execute_result"
    }
   ],
   "source": [
    "cut_couple(\"coupez moi\")"
   ]
  },
  {
   "cell_type": "markdown",
   "metadata": {},
   "source": [
    "#### 1) b-] Créez un dictionnaire *positions* contenant la position (index_ligne, index_colonne) de chaque lettre présente dans playFair.\n",
    "\n",
    "> **Exemple** : la lettre 'i' a pour coordonnées ($x_{i}$,$y_{i}$) = (0,2)"
   ]
  },
  {
   "cell_type": "code",
   "execution_count": 5,
   "metadata": {},
   "outputs": [],
   "source": [
    "positions = dict(\n",
    "f = (0,0),\n",
    "a = (0, 1),\n",
    "i = (0, 2),\n",
    "r = (0, 3),\n",
    "p = (0, 4),\n",
    "l = (1, 0),\n",
    "y = (1, 1),\n",
    "o = (1, 2),\n",
    "g = (1, 3),\n",
    "b = (1, 4),\n",
    "n = (2, 0),\n",
    "c = (2, 1),\n",
    "x = (2, 2),\n",
    "q = (2, 3),\n",
    "t = (2, 4),\n",
    "k = (3, 0),\n",
    "d = (3, 1),\n",
    "j = (3, 2),\n",
    "e = (3, 3),\n",
    "h = (3, 4),\n",
    "w = (4, 0),\n",
    "u = (4, 1),\n",
    "s = (4, 2),\n",
    "v = (4, 3),\n",
    "m = (4, 4)    \n",
    ")\n"
   ]
  },
  {
   "cell_type": "code",
   "execution_count": 6,
   "metadata": {},
   "outputs": [
    {
     "data": {
      "text/plain": [
       "{'f': (0, 0),\n",
       " 'a': (0, 1),\n",
       " 'i': (0, 2),\n",
       " 'r': (0, 3),\n",
       " 'p': (0, 4),\n",
       " 'l': (1, 0),\n",
       " 'y': (1, 1),\n",
       " 'o': (1, 2),\n",
       " 'g': (1, 3),\n",
       " 'b': (1, 4),\n",
       " 'n': (2, 0),\n",
       " 'c': (2, 1),\n",
       " 'x': (2, 2),\n",
       " 'q': (2, 3),\n",
       " 't': (2, 4),\n",
       " 'k': (3, 0),\n",
       " 'd': (3, 1),\n",
       " 'j': (3, 2),\n",
       " 'e': (3, 3),\n",
       " 'h': (3, 4),\n",
       " 'w': (4, 0),\n",
       " 'u': (4, 1),\n",
       " 's': (4, 2),\n",
       " 'v': (4, 3),\n",
       " 'm': (4, 4)}"
      ]
     },
     "execution_count": 6,
     "metadata": {},
     "output_type": "execute_result"
    }
   ],
   "source": [
    "positions"
   ]
  },
  {
   "cell_type": "markdown",
   "metadata": {},
   "source": [
    "#### 1) c-] Définissez une fonction *concat_couple*  qui prend une liste de chaines de caractère *list_couple* en entrée, et renvoie une chaine de caractère. "
   ]
  },
  {
   "cell_type": "code",
   "execution_count": 6,
   "metadata": {},
   "outputs": [
    {
     "data": {
      "text/plain": [
       "'hello python'"
      ]
     },
     "execution_count": 6,
     "metadata": {},
     "output_type": "execute_result"
    }
   ],
   "source": [
    "def concat_couple(strList):\n",
    "    \n",
    "    strResult = ''.join(strList)\n",
    "    return strResult\n",
    "    \n",
    "concat_couple(['hel','lo',' ','py', 'th','on'])   "
   ]
  },
  {
   "cell_type": "markdown",
   "metadata": {},
   "source": [
    "### 2) Travaillez la clef playFair\n",
    "\n",
    "Différents cas :\n",
    "\n",
    "#### 2) a-] \"Si les deux lettres du couple sont situées sur la même ligne, alors on renvoie les deux lettres situées à gauche.\" Définissez une fonction *simple_case* qui prend un tableau *tab* et une chaine de caractères contenant un couple de lettre *couple*. La fonction renverra une chaine de caractère contenant le couple de lettres décodé.\n",
    "\n",
    "> **Exemple** : Le tableau `['f','a','i','r','p']` et le couple de lettres `'pa'` sont donnés en entrée à la fonction *simple_case*. Comme `'r'` est à gauche de `'p'` dans le tableau, on remplace `'p'` par la lettre `'r'`. De même, la lettre `'a'` est remplacée par `'f'`.  Donc, `simple_case(['f','a','i','r','p'], 'pa')` renverra `'rf'`. \n",
    "\n",
    "> **Aide** : La première lettre du tableau (ici `'f'`) sera remplacée par la dernière du tableau (ici `'p'`). Donc `simple_case(['f','a','i','r','p'], 'fr')` renverra `'pi'`. \n",
    "\n"
   ]
  },
  {
   "cell_type": "code",
   "execution_count": 29,
   "metadata": {},
   "outputs": [],
   "source": [
    "def simple_case(tab,string):\n",
    "    stringResult = ''\n",
    "    tabE = tab\n",
    "    \n",
    "    if type(string) is not str:\n",
    "        print(\"Error simple_case : must use valid data\")\n",
    "        return\n",
    "    \n",
    "    if len(tab) != 5:\n",
    "        print(\"Error : list length must be equal to 5\")\n",
    "        return\n",
    "    \n",
    "    if len(string) != 2:\n",
    "        print(\"Error : string length must be equal to 2\")\n",
    "        return\n",
    "    \n",
    "    if type(tab) is np.ndarray:\n",
    "        tabE = tab.tolist()\n",
    "    \n",
    "    i = 0\n",
    "    while i < 2:\n",
    "        \n",
    "        if tabE.index(string[i]) == 0:\n",
    "            stringResult = stringResult + tabE[len(tabE)-1]\n",
    "        else:\n",
    "            stringResult = stringResult + tabE[tabE.index(string[i])-1]\n",
    "        \n",
    "        i = i + 1\n",
    "    \n",
    "    return stringResult\n",
    "    "
   ]
  },
  {
   "cell_type": "code",
   "execution_count": 30,
   "metadata": {},
   "outputs": [
    {
     "data": {
      "text/plain": [
       "'rf'"
      ]
     },
     "execution_count": 30,
     "metadata": {},
     "output_type": "execute_result"
    }
   ],
   "source": [
    "simple_case(['f','a','i','r','p'], 'pa')"
   ]
  },
  {
   "cell_type": "code",
   "execution_count": 31,
   "metadata": {},
   "outputs": [
    {
     "data": {
      "text/plain": [
       "'pi'"
      ]
     },
     "execution_count": 31,
     "metadata": {},
     "output_type": "execute_result"
    }
   ],
   "source": [
    "simple_case(['f','a','i','r','p'], 'fr')"
   ]
  },
  {
   "cell_type": "markdown",
   "metadata": {},
   "source": [
    "Dans le cas où les deux lettres ne sont pas sur les mêmes lignes/colonnes, on renvoie les deux lettres situées dans les coins opposés du rectangle formé par les lettres initiales.\n",
    "\n",
    "#### 2) b-] Définissez une fonction get_opposite_couple(couple) qui prend une chaine de caractère contenant un couple de lettres en entrée, et renvoie les lettres situées dans les coins opposés."
   ]
  },
  {
   "cell_type": "code",
   "execution_count": 10,
   "metadata": {},
   "outputs": [],
   "source": [
    "playFair = np.array([['f','a','i','r','p'],\n",
    "                     ['l','y','o','g','b'],\n",
    "                     ['n','c','x','q','t'],\n",
    "                     ['k','d','j','e','h'],\n",
    "                     ['w','u','s','v','m']])"
   ]
  },
  {
   "cell_type": "markdown",
   "metadata": {},
   "source": [
    "> **Exemple** : Si le couple `'fy'` est donné en entrée, on isole le carré délimité par les lettres `'f'` et `'y'`, contenant les lettres `'f'` et `'a'` en première ligne, puis `'l'` et `'y'` en seconde ligne. Le premier coin opposé à `'f'` en première ligne est délimité par `'a'`, on remplace `'f'` par `'a'`. Le second coin est délimité par `'l'`, on remplace `'y'` par `'l'`. Donc, `get_opposite_couple('fy')` renverra `'al'`. De même, `get_opposite_couple('fq')` renverra `'rn'`.\n",
    "\n",
    "> **Aide** :  On pourra s'aider du dictionnaire *positions* créé en 1) b-]. Par exemple, en notant ($x_{f}$, $y_{f}$) les positions de `'f'` dans le tableau playFair et ($x_{q}$, $y_{q}$) celles de `'q'`, on souhaite juste renvoyer le couple de lettres aux indexes ($x_{f}$, $y_{q}$) = ($x_{r}$, $y_{r}$) et ($x_{q}$, $y_{f}$) =  ($x_{n}$, $y_{n}$)."
   ]
  },
  {
   "cell_type": "code",
   "execution_count": 11,
   "metadata": {},
   "outputs": [],
   "source": [
    "def get_opposite_couple(couple):\n",
    "    \n",
    "    if type(couple) is not str:\n",
    "        print(\"Error get_opposite_couple : must use valid data\")\n",
    "        return\n",
    "    \n",
    "    if len(couple) != 2:\n",
    "        print(\"Error : couple length must be equal to 2\")\n",
    "        return\n",
    "    \n",
    "    coupleResult = ''\n",
    "    \n",
    "    tupleXY = np.where(playFair == couple[0])\n",
    "    tupleKJ = np.where(playFair == couple[1])\n",
    "    \n",
    "    lineNumX = tupleXY[0][0]\n",
    "    columnNumY = tupleXY[1][0]\n",
    "    \n",
    "    lineNumK = tupleKJ[0][0]\n",
    "    columnNumJ = tupleKJ[1][0]\n",
    "   \n",
    "    #first caracter\n",
    "    coupleResult = coupleResult + playFair[lineNumX][columnNumJ]\n",
    "        \n",
    "    #second caracter\n",
    "    coupleResult = coupleResult + playFair[lineNumK][columnNumY]\n",
    "            \n",
    "    return coupleResult    \n",
    "    \n",
    "    "
   ]
  },
  {
   "cell_type": "code",
   "execution_count": 12,
   "metadata": {},
   "outputs": [
    {
     "data": {
      "text/plain": [
       "'al'"
      ]
     },
     "execution_count": 12,
     "metadata": {},
     "output_type": "execute_result"
    }
   ],
   "source": [
    "get_opposite_couple('fy')"
   ]
  },
  {
   "cell_type": "code",
   "execution_count": 13,
   "metadata": {},
   "outputs": [
    {
     "data": {
      "text/plain": [
       "'rn'"
      ]
     },
     "execution_count": 13,
     "metadata": {},
     "output_type": "execute_result"
    }
   ],
   "source": [
    "get_opposite_couple('fq')"
   ]
  },
  {
   "cell_type": "markdown",
   "metadata": {},
   "source": [
    "### 3) Déchiffrer break_me\n",
    "\n",
    "On pourra définir une fonction prenant un message :\n",
    "- Pour chaque couple de lettres isolées en 1), déterminer si ces lettres sont sur la même ligne/colonne\n",
    "- Si oui, appliquer 2)a-] sur la bonne ligne/colonne\n",
    "- Sinon, appliquer 2)b-]\n",
    "- Stocker les résultats, recomposer la chaine de caractère, et la retourner.\n",
    "\n",
    "Affichez *break_me* déchiffrée! Quelle phrase était codée à l'origine?\n",
    "\n",
    "> **Bonus** : Gardez en mémoire les espaces! Adaptez les questions 1)a-] et 1)c-] pour reconstituer le message original."
   ]
  },
  {
   "cell_type": "code",
   "execution_count": 70,
   "metadata": {},
   "outputs": [
    {
     "name": "stdout",
     "output_type": "stream",
     "text": [
      "msg to break : break_me\n",
      "msg broken : gpdrh_wjq\n",
      "msg broken without the letter x ( in case of impair msg) : gpdrh_wj\n"
     ]
    }
   ],
   "source": [
    "\n",
    "def breakerFunc(message):\n",
    "    \n",
    "    if type(message) is not str:\n",
    "        print('Error : breakFunc work only with strings !')\n",
    "    \n",
    "    if message == '' or message == ' ':\n",
    "        print('Error breakFunc : please enter a valid data')\n",
    "        \n",
    "        \n",
    "    listOfCouple = cut_couple(message)\n",
    "    \n",
    "    listOfResult = []\n",
    "    \n",
    "    #iteration over couples\n",
    "    for couple in listOfCouple:\n",
    "        #print(couple)\n",
    "        \n",
    "        tupleXY = np.where(playFair == couple[0])\n",
    "        tupleKJ = np.where(playFair == couple[1])\n",
    "    \n",
    "        lineNumX = tupleXY[0][0]\n",
    "        columnNumY = tupleXY[1][0]\n",
    "    \n",
    "        lineNumK = tupleKJ[0][0]\n",
    "        columnNumJ = tupleKJ[1][0]\n",
    "        \n",
    "        #case couple letter are the same or are in the same line\n",
    "        if (lineNumX == lineNumK and columnNumY == columnNumJ) or (lineNumX == lineNumK and columnNumY != columnNumJ):\n",
    "            \n",
    "            listOfResult.append( simple_case(playFair[lineNumX],couple) )\n",
    "        \n",
    "        #case couple letter are the same or are in the same column\n",
    "        elif columnNumY == columnNumJ:\n",
    "            localCouple = ''\n",
    "            \n",
    "            if lineNumX == 0:\n",
    "                localCouple = localCouple + playFair[4][columnNumY]\n",
    "            else:\n",
    "                localCouple = localCouple + playFair[lineNumX-1][columnNumY]\n",
    "            \n",
    "            if lineNumK == 0:\n",
    "                localCouple = localCouple + playFair[4][columnNumJ]\n",
    "            else:\n",
    "                localCouple = localCouple + playFair[lineNumK-1][columnNumJ]\n",
    "            \n",
    "            listOfResult.append( localCouple )\n",
    "            \n",
    "        else:\n",
    "            listOfResult.append( get_opposite_couple(couple) )    \n",
    "    \n",
    "    messageResult = concat_couple(listOfResult)\n",
    "    \n",
    "    for tupl in caracterList:\n",
    "        messageResult = messageResult[:tupl[1]] + tupl[0] + messageResult[tupl[1]:] \n",
    "\n",
    "    print('msg to break : '+message)\n",
    "    print('msg broken : '+messageResult)\n",
    "    \n",
    "    if len(messageResult) > len(message):\n",
    "        messageResult = messageResult[0:len(messageResult)-1]\n",
    "        print('msg broken without the letter x ( in case of impair msg) : '+messageResult)\n",
    "        \n",
    "breakerFunc('break_me')\n"
   ]
  },
  {
   "cell_type": "markdown",
   "metadata": {},
   "source": [
    "# Exercice 2\n",
    "\n",
    "♩ Toss a coin to your teacher ♩"
   ]
  },
  {
   "cell_type": "markdown",
   "metadata": {},
   "source": [
    "### 1) Définissez une classe CoinToss qui lance virtuellement une pièce.\n",
    "\n",
    "La classe CoinToss aura au minimum:\n",
    "- un argument *coinValue*. Il sera initialisé à 'Pile' ou 'Face' avec une probabilité $\\frac{1}{2}$ si le constructeur ne donne pas de valeur par défaut à coinValue. Si la valeur est renseignée dans le constructeur, elle sera affectée à *coinValue*.\n",
    "- un getter et un setter associés à *coinValue*.\n",
    "- une méthode *toss*, qui réinitialisera la valeur de *coinValue*."
   ]
  },
  {
   "cell_type": "code",
   "execution_count": 268,
   "metadata": {},
   "outputs": [],
   "source": [
    "\n",
    "class CoinToss:\n",
    "    \n",
    "    def __init__(self, coinValue=None):\n",
    "        if coinValue == None:\n",
    "            ## adding __ to the variable make it private\n",
    "            self.coinValue = 'Pile' if random.binomial(n=1, p=0.5, size=1)[0] == 0 else 'Face'\n",
    "            \n",
    "        else:\n",
    "            self.coinValue = coinValue\n",
    "            \n",
    "    def toss(coinClass):\n",
    "        coinClass.coinValue = 'Pile' if random.binomial(n=1, p=0.5, size=1)[0] == 0 else 'Face'\n",
    "        return coinClass.coinValue\n",
    "        \n",
    "    def getCoinValue(this):\n",
    "        return this.coinValue\n",
    "    \n",
    "    def setCoinValue(this, coinValue):\n",
    "        if value != 'Face' and value != 'Pile':\n",
    "            print('Eroor : please enter either Pile or Face as string')\n",
    "            return \n",
    "        \n",
    "        this.coinValue = coinValue\n",
    "    \n"
   ]
  },
  {
   "cell_type": "markdown",
   "metadata": {},
   "source": [
    "### 2) Définissez une classe FakeCoinToss, qui lancera virtuellement une pièce non équilibrée.\n",
    "\n",
    "La classe FakeCoinToss héritera de CoinToss.\n",
    "\n",
    "On surchargera la méthode *toss* pour qu'elle réinitialise la pièce 7 fois sur 10 à 'Pile', et trois fois sur 10 à 'Face'."
   ]
  },
  {
   "cell_type": "code",
   "execution_count": 269,
   "metadata": {},
   "outputs": [],
   "source": [
    "\n",
    "class FakeCoinToss(CoinToss):\n",
    "    \n",
    "    def __init__(self, coinValue = None):\n",
    "        CoinToss.__init__(self, coinValue)\n",
    "\n",
    "    def toss(this):\n",
    "        this.coinValue = 'Pile' if random.binomial(n=1, p=0.3, size=1)[0] == 0 else 'Face'\n",
    "        return this.coinValue\n",
    "\n"
   ]
  },
  {
   "cell_type": "markdown",
   "metadata": {},
   "source": [
    "### 3) Lancez 100 fois une pièce avec CoinToss, définie à la question 1, et 100 fois avec FakeCoinToss, définie à la question 2.\n",
    "\n",
    "Vérifiez que vous obtenez bien un nombre de 'Pile' et de 'Face' cohérent avec les consignes."
   ]
  },
  {
   "cell_type": "code",
   "execution_count": 341,
   "metadata": {},
   "outputs": [
    {
     "name": "stdout",
     "output_type": "stream",
     "text": [
      "*** CoinToss ***\n",
      "* Number of Pile in CoinToss :  57 / 100, which equal to :  5.7 / 10\n",
      "* Number of Pile in CoinToss :  43 / 100, which equal to :  4.3 / 10\n",
      "  \n",
      "** Checking result of CoinToss with isclose method and 10 as absolute tolerence : \n",
      "results are coherent with instructions\n",
      "  \n",
      "*** FakeCoinToss ***\n",
      "* Number of Pile in FakeCoinToss :  77 / 100, which equal to :  7.7 / 10\n",
      "* Number of Pile in FakeCoinToss :  23 / 100, which equal to :  2.3 / 10\n",
      "  \n",
      "** Checking result of FakeCoinToss with isclose method and 10 as absolute tolerence : \n",
      "results are coherent with instructions\n"
     ]
    }
   ],
   "source": [
    "\n",
    "coinToss = CoinToss()\n",
    "arrayCoinToss = []\n",
    "\n",
    "fakeCoinToss = FakeCoinToss()\n",
    "arrayfakeCoinToss = []\n",
    "\n",
    "for i in range(100):\n",
    "    arrayCoinToss.append(coinToss.toss())\n",
    "    \n",
    "for i in range(100):\n",
    "    arrayfakeCoinToss.append(fakeCoinToss.toss())\n",
    "\n",
    "print('*** CoinToss ***')\n",
    "print('* Number of Pile in CoinToss : ',arrayCoinToss.count('Pile'), '/ 100, which equal to : ',arrayCoinToss.count('Pile') /10, '/ 10' )\n",
    "print('* Number of Pile in CoinToss : ',arrayCoinToss.count('Face'), '/ 100, which equal to : ',arrayCoinToss.count('Face') /10, '/ 10' )\n",
    "\n",
    "print('  ')\n",
    "print('** Checking result of CoinToss with isclose method and 10 as absolute tolerence : ')\n",
    "\n",
    "if np.isclose(arrayCoinToss.count('Pile'),50, atol = 10):\n",
    "    print('results are coherent with instructions')\n",
    "else:\n",
    "    print('results are not coherent with instructions')\n",
    "\n",
    "print('  ')\n",
    "print('*** FakeCoinToss ***')\n",
    "print('* Number of Pile in FakeCoinToss : ',arrayfakeCoinToss.count('Pile'), '/ 100, which equal to : ',arrayfakeCoinToss.count('Pile') /10, '/ 10' )\n",
    "print('* Number of Pile in FakeCoinToss : ',arrayfakeCoinToss.count('Face'), '/ 100, which equal to : ',arrayfakeCoinToss.count('Face') /10, '/ 10' )\n",
    "\n",
    "print('  ')\n",
    "print('** Checking result of FakeCoinToss with isclose method and 10 as absolute tolerence : ')\n",
    "\n",
    "if np.isclose(arrayfakeCoinToss.count('Pile'),70, atol = 10 ):\n",
    "    print('results are coherent with instructions')\n",
    "else:\n",
    "    print('results are not coherent with instructions')\n",
    "\n",
    "    \n",
    "    "
   ]
  },
  {
   "cell_type": "markdown",
   "metadata": {},
   "source": [
    "# Problème"
   ]
  },
  {
   "cell_type": "markdown",
   "metadata": {},
   "source": [
    "Vous aurez besoin du dataset 'retraite.csv'. Ce jeu de données est généré à la main. Il contient de (fausses) données sur le parcours professionel de plusieurs (fausses) personnes.\n",
    "\n",
    "Description des variables:\n",
    "- **prenom** contient le prénom de la personne considérée (un prénom est associé à une personne)\n",
    "- **revenus_bruts** contient les revenus bruts des personnes\n",
    "- **mois** contient le mois associé à ces revenus\n",
    "- **annee** contient l'année associée à ces revenus\n",
    "- **cotisation** contient vrai si la personne cotise pour sa retraite à ce moment-là"
   ]
  },
  {
   "cell_type": "markdown",
   "metadata": {},
   "source": [
    "### 1) Importez le jeu de données, puis affichez les cinq premières lignes"
   ]
  },
  {
   "cell_type": "code",
   "execution_count": 3,
   "metadata": {},
   "outputs": [
    {
     "data": {
      "text/html": [
       "<div>\n",
       "<style scoped>\n",
       "    .dataframe tbody tr th:only-of-type {\n",
       "        vertical-align: middle;\n",
       "    }\n",
       "\n",
       "    .dataframe tbody tr th {\n",
       "        vertical-align: top;\n",
       "    }\n",
       "\n",
       "    .dataframe thead th {\n",
       "        text-align: right;\n",
       "    }\n",
       "</style>\n",
       "<table border=\"1\" class=\"dataframe\">\n",
       "  <thead>\n",
       "    <tr style=\"text-align: right;\">\n",
       "      <th></th>\n",
       "      <th>prenom</th>\n",
       "      <th>mois</th>\n",
       "      <th>annee</th>\n",
       "      <th>revenus_bruts</th>\n",
       "      <th>cotisation</th>\n",
       "    </tr>\n",
       "  </thead>\n",
       "  <tbody>\n",
       "    <tr>\n",
       "      <th>0</th>\n",
       "      <td>Catherine</td>\n",
       "      <td>janvier</td>\n",
       "      <td>1979</td>\n",
       "      <td>1600</td>\n",
       "      <td>True</td>\n",
       "    </tr>\n",
       "    <tr>\n",
       "      <th>1</th>\n",
       "      <td>Catherine</td>\n",
       "      <td>février</td>\n",
       "      <td>1979</td>\n",
       "      <td>1600</td>\n",
       "      <td>True</td>\n",
       "    </tr>\n",
       "    <tr>\n",
       "      <th>2</th>\n",
       "      <td>Catherine</td>\n",
       "      <td>mars</td>\n",
       "      <td>1979</td>\n",
       "      <td>1600</td>\n",
       "      <td>True</td>\n",
       "    </tr>\n",
       "    <tr>\n",
       "      <th>3</th>\n",
       "      <td>Catherine</td>\n",
       "      <td>avril</td>\n",
       "      <td>1979</td>\n",
       "      <td>1600</td>\n",
       "      <td>True</td>\n",
       "    </tr>\n",
       "    <tr>\n",
       "      <th>4</th>\n",
       "      <td>Catherine</td>\n",
       "      <td>mai</td>\n",
       "      <td>1979</td>\n",
       "      <td>1600</td>\n",
       "      <td>True</td>\n",
       "    </tr>\n",
       "  </tbody>\n",
       "</table>\n",
       "</div>"
      ],
      "text/plain": [
       "      prenom     mois  annee  revenus_bruts  cotisation\n",
       "0  Catherine  janvier   1979           1600        True\n",
       "1  Catherine  février   1979           1600        True\n",
       "2  Catherine     mars   1979           1600        True\n",
       "3  Catherine    avril   1979           1600        True\n",
       "4  Catherine      mai   1979           1600        True"
      ]
     },
     "execution_count": 3,
     "metadata": {},
     "output_type": "execute_result"
    }
   ],
   "source": [
    "\n",
    "retraite = pd.read_table('retraite.csv', delimiter = ',')\n",
    "\n",
    "pd.read_table('retraite.csv', delimiter = ',', nrows = 5)\n",
    "\n"
   ]
  },
  {
   "cell_type": "markdown",
   "metadata": {},
   "source": [
    "### 2) Description des données"
   ]
  },
  {
   "cell_type": "markdown",
   "metadata": {},
   "source": [
    "#### 2) a-]  Quel est le type de la variable cotisation? Affichez le en console"
   ]
  },
  {
   "cell_type": "code",
   "execution_count": 376,
   "metadata": {},
   "outputs": [
    {
     "name": "stdout",
     "output_type": "stream",
     "text": [
      "The type of :  cotisation  is :  bool\n"
     ]
    }
   ],
   "source": [
    "\n",
    "print('The type of : ',retraite.columns[4],' is : ',retraite.dtypes[4])\n",
    "\n",
    "\n"
   ]
  },
  {
   "cell_type": "markdown",
   "metadata": {},
   "source": [
    "#### 2) b-]  Affichez les dimensions du dataframe"
   ]
  },
  {
   "cell_type": "code",
   "execution_count": 380,
   "metadata": {},
   "outputs": [
    {
     "name": "stdout",
     "output_type": "stream",
     "text": [
      "The shape dataframe retraite is :  (1968, 5)\n"
     ]
    }
   ],
   "source": [
    "print('The shape dataframe retraite is : ', retraite.shape)"
   ]
  },
  {
   "cell_type": "markdown",
   "metadata": {},
   "source": [
    "#### 2) c-]  Combien de prénoms différents contient le dataset?"
   ]
  },
  {
   "cell_type": "code",
   "execution_count": 390,
   "metadata": {},
   "outputs": [
    {
     "name": "stdout",
     "output_type": "stream",
     "text": [
      "The number of unique prénoms on the dataset is :  4  :  ['Catherine' 'Daniel' 'Marie' 'Patrick']\n"
     ]
    }
   ],
   "source": [
    "\n",
    "print('The number of unique prénoms on the dataset is : ', len(pd.unique(retraite['prenom'])), ' : ',pd.unique(retraite['prenom']))\n",
    "\n"
   ]
  },
  {
   "cell_type": "markdown",
   "metadata": {},
   "source": [
    "### 3) Extraction des données et statistiques descriptives"
   ]
  },
  {
   "cell_type": "markdown",
   "metadata": {},
   "source": [
    "#### 3) a-]  Quelle période couvre le dataset?"
   ]
  },
  {
   "cell_type": "code",
   "execution_count": 23,
   "metadata": {},
   "outputs": [
    {
     "name": "stdout",
     "output_type": "stream",
     "text": [
      "The beggining period covered by the retraite dataframe is :  janvier 1979\n"
     ]
    }
   ],
   "source": [
    "minimumYear = retraite['annee'].min()\n",
    "\n",
    "result = retraite[retraite['annee'] == minimumYear]\n",
    "\n",
    "monthsArray = pd.unique(result['mois'])\n",
    "\n",
    "minMonth = ''\n",
    "\n",
    "if 'janvier' in monthsArray:\n",
    "    minMonth = 'janvier'\n",
    "    \n",
    "elif 'février' in monthsArray:\n",
    "    minMonth = 'février'\n",
    "    \n",
    "elif 'mars' in monthsArray:\n",
    "    minMonth = 'mars'\n",
    "    \n",
    "elif 'avril' in monthsArray:\n",
    "    minMonth = 'avril'\n",
    "    \n",
    "elif 'mai' in monthsArray:\n",
    "    minMonth = 'mai'\n",
    "    \n",
    "elif 'juin' in monthsArray:\n",
    "    minMonth = 'juin'\n",
    "    \n",
    "elif 'juillet' in monthsArray:\n",
    "    minMonth = 'juillet'\n",
    "    \n",
    "elif 'août' in monthsArray:\n",
    "    minMonth = 'août'\n",
    "    \n",
    "elif 'septembre' in monthsArray:\n",
    "    minMonth = 'septembre'\n",
    "    \n",
    "elif 'octobre' in monthsArray:\n",
    "    minMonth = 'octobre'\n",
    "    \n",
    "elif 'novembre' in monthsArray:\n",
    "    minMonth = 'novembre'\n",
    "    \n",
    "elif 'décembre' in monthsArray:\n",
    "    minMonth = 'décembre'\n",
    "    \n",
    "print('The beggining period covered by the retraite dataframe is : ', minMonth, minimumYear)\n"
   ]
  },
  {
   "cell_type": "code",
   "execution_count": 22,
   "metadata": {},
   "outputs": [
    {
     "name": "stdout",
     "output_type": "stream",
     "text": [
      "The ending period covered by the retraite dataframe is :  décembre 2019\n"
     ]
    }
   ],
   "source": [
    "maxYear = retraite['annee'].max()\n",
    "\n",
    "result = retraite[retraite['annee'] == maxYear]\n",
    "\n",
    "monthsArray = pd.unique(result['mois'])\n",
    "\n",
    "maxMonth = ''\n",
    "\n",
    "if 'décembre' in monthsArray:\n",
    "    maxMonth = 'décembre'\n",
    "    \n",
    "elif 'novembre' in monthsArray:\n",
    "    maxMonth = 'novembre'\n",
    "\n",
    "elif 'octobre' in monthsArray:\n",
    "    maxMonth = 'octobre'\n",
    "\n",
    "elif 'septembre' in monthsArray:\n",
    "    maxMonth = 'septembre'\n",
    "\n",
    "elif 'août' in monthsArray:\n",
    "    maxMonth = 'août'\n",
    "\n",
    "elif 'juillet' in monthsArray:\n",
    "    maxMonth = 'juillet'\n",
    "\n",
    "elif 'juin' in monthsArray:\n",
    "    maxMonth = 'juin'\n",
    "\n",
    "elif 'mai' in monthsArray:\n",
    "    maxMonth = 'mai'\n",
    "\n",
    "elif 'avril' in monthsArray:\n",
    "    maxMonth = 'avril'\n",
    "    \n",
    "elif 'mars' in monthsArray:\n",
    "    maxMonth = 'mars'\n",
    "    \n",
    "elif 'février' in monthsArray:\n",
    "    maxMonth = 'février'\n",
    "\n",
    "elif 'janvier' in monthsArray:\n",
    "    maxMonth = 'janvier'\n",
    "    \n",
    "print('The ending period covered by the retraite dataframe is : ', maxMonth, maxYear)\n"
   ]
  },
  {
   "cell_type": "markdown",
   "metadata": {},
   "source": [
    "#### 3) b-]  Quelle est la moyenne des revenus bruts?"
   ]
  },
  {
   "cell_type": "code",
   "execution_count": 27,
   "metadata": {
    "scrolled": true
   },
   "outputs": [
    {
     "name": "stdout",
     "output_type": "stream",
     "text": [
      "The average revenus bruts is :  2162.737804878049\n"
     ]
    }
   ],
   "source": [
    "print('The average revenus bruts is : ', retraite['revenus_bruts'].mean())"
   ]
  },
  {
   "cell_type": "markdown",
   "metadata": {},
   "source": [
    "#### 3) c-]  Quels ont été les revenus bruts de Patrick en janvier 1979?"
   ]
  },
  {
   "cell_type": "code",
   "execution_count": 73,
   "metadata": {},
   "outputs": [
    {
     "name": "stdout",
     "output_type": "stream",
     "text": [
      "Les revenus bruts de Patrick en janvier 1979 sont : 1700\n"
     ]
    }
   ],
   "source": [
    "query = retraite.query(\"prenom == 'Patrick' and annee == 1979 and mois == 'janvier'\")['revenus_bruts']\n",
    "\n",
    "print('Les revenus bruts de Patrick en janvier 1979 sont :', query[query.index[0]])\n"
   ]
  },
  {
   "cell_type": "markdown",
   "metadata": {},
   "source": [
    "#### 3) d-]  Quel montant brut a touché Catherine sur toute l'année 1983?"
   ]
  },
  {
   "cell_type": "code",
   "execution_count": 81,
   "metadata": {},
   "outputs": [
    {
     "name": "stdout",
     "output_type": "stream",
     "text": [
      "Le montant brut qu'a touché Catherine sur toute l'année 1983 est de : 19392\n"
     ]
    }
   ],
   "source": [
    "query = retraite.query(\"prenom == 'Catherine' and annee == 1983 \")['revenus_bruts']\n",
    "\n",
    "montantTotal = 0\n",
    "for montant in query:\n",
    "    montantTotal = montantTotal + montant\n",
    "\n",
    "print(\"Le montant brut qu'a touché Catherine sur toute l'année 1983 est de :\",montantTotal)"
   ]
  },
  {
   "cell_type": "markdown",
   "metadata": {},
   "source": [
    "### 4) Transformation des données"
   ]
  },
  {
   "cell_type": "markdown",
   "metadata": {},
   "source": [
    "#### 4) a-] Créez un dataset contenant les revenus bruts annuels moyens de Patrick. "
   ]
  },
  {
   "cell_type": "code",
   "execution_count": 136,
   "metadata": {
    "scrolled": true
   },
   "outputs": [
    {
     "name": "stdout",
     "output_type": "stream",
     "text": [
      "*** Patrick revenus bruts annuels moyens dataFrame :\n",
      " \n",
      "    Year  revenus_bruts_annuels\n",
      "0   1979                 1700.0\n",
      "1   1980                 1734.0\n",
      "2   1981                 1768.0\n",
      "3   1982                 1804.0\n",
      "4   1983                 1804.0\n",
      "5   1984                 1840.0\n",
      "6   1985                 1840.0\n",
      "7   1986                 1858.0\n",
      "8   1987                 1914.0\n",
      "9   1988                 1971.0\n",
      "10  1989                 2011.0\n",
      "11  1990                 2051.0\n",
      "12  1991                 2092.0\n",
      "13  1992                 2113.0\n",
      "14  1993                 2134.0\n",
      "15  1994                 2198.0\n",
      "16  1995                 2220.0\n",
      "17  1996                 2242.0\n",
      "18  1997                 2242.0\n",
      "19  1998                 2242.0\n",
      "20  1999                 2265.0\n",
      "21  2000                 2310.0\n",
      "22  2001                 2356.0\n",
      "23  2002                 2403.0\n",
      "24  2003                 2451.0\n",
      "25  2004                 2500.0\n",
      "26  2005                 2575.0\n",
      "27  2006                 2653.0\n",
      "28  2007                 2706.0\n",
      "29  2008                 2706.0\n",
      "30  2009                 2733.0\n",
      "31  2010                 2760.0\n",
      "32  2011                 2760.0\n",
      "33  2012                 2788.0\n",
      "34  2013                 2788.0\n",
      "35  2014                 2871.0\n",
      "36  2015                 2958.0\n",
      "37  2016                 2987.0\n",
      "38  2017                 2987.0\n",
      "39  2018                 3017.0\n",
      "40  2019                 3047.0\n"
     ]
    }
   ],
   "source": [
    "PatrickDataFrame = retraite.query(\"prenom == 'Patrick' \").reset_index() #.drop('mois',1).drop('cotisation',1).drop('prenom',1).reset_index().drop('index',1)\n",
    "\n",
    "years = pd.unique(PatrickDataFrame['annee'])\n",
    "revenus_bruts_annuels = []\n",
    "\n",
    "for year in years:\n",
    "    revenus_bruts_annuels.append(PatrickDataFrame[PatrickDataFrame['annee'] == year]['revenus_bruts'].mean())\n",
    "\n",
    "PatrickDataFrameWithAvergeRevenusPerYear = pd.DataFrame({\"Year\" : years, \"revenus_bruts_annuels\" : revenus_bruts_annuels})\n",
    "\n",
    "print('*** Patrick revenus bruts annuels moyens dataFrame :')\n",
    "print(' ')\n",
    "print(PatrickDataFrameWithAvergeRevenusPerYear)\n"
   ]
  },
  {
   "cell_type": "markdown",
   "metadata": {},
   "source": [
    "#### 4) b-] Créez une variable revenus_nets à l'aide de la variable revenus_bruts. \n",
    "\n",
    "Pour grossièrement passer d'un salaire brut à un salaire net, il faut retrancher 23% du salaire brut pour un employé du privé et 15% pour un employé de la fonction publique.\n",
    "\n",
    "Patrick est employé de la fonction publique, les autres sont employés dans le privé."
   ]
  },
  {
   "cell_type": "code",
   "execution_count": 159,
   "metadata": {},
   "outputs": [
    {
     "name": "stdout",
     "output_type": "stream",
     "text": [
      "         prenom       mois  annee  revenus_bruts  cotisation  revenus_nets\n",
      "0     Catherine    janvier   1979           1600        True       1232.00\n",
      "1     Catherine    février   1979           1600        True       1232.00\n",
      "2     Catherine       mars   1979           1600        True       1232.00\n",
      "3     Catherine      avril   1979           1600        True       1232.00\n",
      "4     Catherine        mai   1979           1600        True       1232.00\n",
      "...         ...        ...    ...            ...         ...           ...\n",
      "1963    Patrick       août   2019           3047        True       2589.95\n",
      "1964    Patrick  septembre   2019           3047        True       2589.95\n",
      "1965    Patrick    octobre   2019           3047        True       2589.95\n",
      "1966    Patrick   novembre   2019           3047        True       2589.95\n",
      "1967    Patrick   décembre   2019           3047        True       2589.95\n",
      "\n",
      "[1968 rows x 6 columns]\n"
     ]
    }
   ],
   "source": [
    "revenus_nets = []\n",
    "\n",
    "for index in retraite.index:\n",
    "    \n",
    "    if retraite['prenom'][index] == 'Patrick':\n",
    "        revenus_nets.append(  retraite['revenus_bruts'][index] - retraite['revenus_bruts'][index]*15/100  )\n",
    "    else:\n",
    "        revenus_nets.append(  retraite['revenus_bruts'][index] - retraite['revenus_bruts'][index]*23/100  )\n",
    "\n",
    "retraite['revenus_nets'] = revenus_nets\n",
    "print(retraite)\n",
    "\n",
    "\n"
   ]
  },
  {
   "cell_type": "markdown",
   "metadata": {},
   "source": [
    "### 5) Visualisation graphique"
   ]
  },
  {
   "cell_type": "markdown",
   "metadata": {},
   "source": [
    "#### 5) a-] Affichez un boxplot comparant les distributions de salaires nets des différentes personnes du dataset. "
   ]
  },
  {
   "cell_type": "code",
   "execution_count": 247,
   "metadata": {},
   "outputs": [
    {
     "data": {
      "text/plain": [
       "<function matplotlib.pyplot.show(*args, **kw)>"
      ]
     },
     "execution_count": 247,
     "metadata": {},
     "output_type": "execute_result"
    },
    {
     "data": {
      "image/png": "[encoded data removed]",
      "text/plain": [
       "<Figure size 1080x720 with 1 Axes>"
      ]
     },
     "metadata": {
      "needs_background": "light"
     },
     "output_type": "display_data"
    }
   ],
   "source": [
    "plt.subplots(figsize=(15,10))\n",
    "\n",
    "reNetsCatherine = retraite[retraite['prenom'] == 'Catherine']['revenus_nets']\n",
    "reNetsDaniel = retraite[retraite['prenom'] == 'Daniel']['revenus_nets']\n",
    "reNetsMarie = retraite[retraite['prenom'] == 'Marie']['revenus_nets']\n",
    "reNetsPatrick = retraite[retraite['prenom'] == 'Patrick']['revenus_nets']\n",
    "\n",
    "plt.boxplot( [reNetsCatherine, reNetsDaniel, reNetsMarie, reNetsPatrick ]  )\n",
    "\n",
    "\n",
    "plt.xlabel('Nom des personnes')\n",
    "plt.ylabel('Salaire')\n",
    "plt.title('Distributions de salaires')\n",
    "plt.xticks([1,2,3,4], pd.unique(retraite['prenom']) )\n",
    "plt.show\n"
   ]
  },
  {
   "cell_type": "markdown",
   "metadata": {},
   "source": [
    "#### 5) b-] Comparez les variations de salaires (écart-type) par personne. Quelle personne a les revenus les plus fluctuants d'après le graphique? Quelle personne a les revenus les plus fluctuants en écart-type? Comment expliquez-vous cette différence?"
   ]
  },
  {
   "cell_type": "code",
   "execution_count": 251,
   "metadata": {},
   "outputs": [
    {
     "name": "stdout",
     "output_type": "stream",
     "text": [
      "[249.59411300953866, 363.72197350398875, 411.3430149846731, 350.5081338325947]\n"
     ]
    },
    {
     "data": {
      "image/png": "[encoded data removed]",
      "text/plain": [
       "<Figure size 360x360 with 1 Axes>"
      ]
     },
     "metadata": {},
     "output_type": "display_data"
    }
   ],
   "source": [
    "\n",
    "ecart_type = [np.std(reNetsCatherine),np.std(reNetsDaniel),np.std(reNetsMarie),np.std(reNetsPatrick)]\n",
    "\n",
    "print(ecart_type)\n",
    "\n",
    "plt.figure(figsize=(5,5))\n",
    "plt.pie(ecart_type,\n",
    "        startangle = 90,\n",
    "        labels = list((\"Cathrine\", \"Daniel\",\"Marie\",\"Patrick\")),\n",
    "        autopct='%1.f%%',\n",
    "        shadow = True)\n",
    "plt.title(\"Diagramme circulaire sur la proportion des ecart_type\")\n",
    "plt.show()\n"
   ]
  },
  {
   "cell_type": "code",
   "execution_count": null,
   "metadata": {
    "scrolled": true
   },
   "outputs": [],
   "source": []
  },
  {
   "cell_type": "markdown",
   "metadata": {},
   "source": [
    "### 6) Méthodes statistiques"
   ]
  },
  {
   "cell_type": "markdown",
   "metadata": {},
   "source": [
    "\n",
    "Pour cette question, utilisez les données de la question 4a!\n",
    "\n",
    "#### 6) a-] Modéliser l'évolution du salaire de Patrick au cours du temps à l'aide d'une régression. "
   ]
  },
  {
   "cell_type": "code",
   "execution_count": null,
   "metadata": {},
   "outputs": [],
   "source": []
  },
  {
   "cell_type": "markdown",
   "metadata": {},
   "source": [
    "#### 6) b-] Pouvez-vous prédire ce que gagnera Patrick (en brut) s'il est toujours dans la fonction publique dans 10 ans? "
   ]
  },
  {
   "cell_type": "code",
   "execution_count": null,
   "metadata": {},
   "outputs": [],
   "source": []
  },
  {
   "cell_type": "markdown",
   "metadata": {},
   "source": [
    "#### 6) c-] Quelle est la valeur de son augmentation annuelle? "
   ]
  },
  {
   "cell_type": "code",
   "execution_count": null,
   "metadata": {},
   "outputs": [],
   "source": []
  },
  {
   "cell_type": "markdown",
   "metadata": {},
   "source": [
    "#### 6) d-] Affichez le R² associé à la régression; le modèle vous parait-il correct? Affichez la droite de régression pour vérifier!\n",
    "\n",
    "Commentez ces résultats."
   ]
  },
  {
   "cell_type": "code",
   "execution_count": null,
   "metadata": {},
   "outputs": [],
   "source": []
  }
 ],
 "metadata": {
  "kernelspec": {
   "display_name": "Python 3",
   "language": "python",
   "name": "python3"
  },
  "language_info": {
   "codemirror_mode": {
    "name": "ipython",
    "version": 3
   },
   "file_extension": ".py",
   "mimetype": "text/x-python",
   "name": "python",
   "nbconvert_exporter": "python",
   "pygments_lexer": "ipython3",
   "version": "3.8.3"
  }
 },
 "nbformat": 4,
 "nbformat_minor": 2
}
